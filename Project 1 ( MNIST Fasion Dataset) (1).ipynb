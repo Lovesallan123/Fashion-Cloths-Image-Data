{
 "cells": [
  {
   "cell_type": "markdown",
   "id": "2c9f4517",
   "metadata": {},
   "source": [
    "### IMPORTING THE LIBRARIES"
   ]
  },
  {
   "cell_type": "code",
   "execution_count": null,
   "id": "6b796646",
   "metadata": {},
   "outputs": [],
   "source": [
    "import pandas as pd\n",
    "import numpy as np\n",
    "import matplotlib.pyplot as plt\n",
    "import seaborn as sns\n",
    "\n",
    "from tensorflow import keras\n",
    "from keras.utils import to_categorical\n",
    "from keras.callbacks import EarlyStopping\n",
    "from keras.models import Sequential\n",
    "from keras.layers import Dense,Conv2D,MaxPooling2D,BatchNormalization,Dropout,Activation,Flatten\n",
    "from keras.losses import categorical_crossentropy\n",
    "from keras.optimizers import Adam\n",
    "from keras.regularizers import l2\n",
    "from keras.preprocessing.image import ImageDataGenerator\n",
    "\n",
    "from sklearn.metrics import classification_report,accuracy_score,confusion_matrix\n",
    "\n",
    "import os\n",
    "import warnings\n",
    "warnings.filterwarnings(\"ignore\")"
   ]
  },
  {
   "cell_type": "markdown",
   "id": "5ac904f2",
   "metadata": {},
   "source": [
    "### LOADING TRAIN DATA"
   ]
  },
  {
   "cell_type": "code",
   "execution_count": 2,
   "id": "ce285d55",
   "metadata": {},
   "outputs": [],
   "source": [
    "data = pd.read_csv(r\"C:\\Users\\Skill-Lync\\Downloads\\fashion-mnist_train_Dataset_Project 1.csv\\fashion-mnist_train.csv\")"
   ]
  },
  {
   "cell_type": "code",
   "execution_count": 3,
   "id": "c794af90",
   "metadata": {},
   "outputs": [
    {
     "data": {
      "text/html": [
       "<div>\n",
       "<style scoped>\n",
       "    .dataframe tbody tr th:only-of-type {\n",
       "        vertical-align: middle;\n",
       "    }\n",
       "\n",
       "    .dataframe tbody tr th {\n",
       "        vertical-align: top;\n",
       "    }\n",
       "\n",
       "    .dataframe thead th {\n",
       "        text-align: right;\n",
       "    }\n",
       "</style>\n",
       "<table border=\"1\" class=\"dataframe\">\n",
       "  <thead>\n",
       "    <tr style=\"text-align: right;\">\n",
       "      <th></th>\n",
       "      <th>label</th>\n",
       "      <th>pixel1</th>\n",
       "      <th>pixel2</th>\n",
       "      <th>pixel3</th>\n",
       "      <th>pixel4</th>\n",
       "      <th>pixel5</th>\n",
       "      <th>pixel6</th>\n",
       "      <th>pixel7</th>\n",
       "      <th>pixel8</th>\n",
       "      <th>pixel9</th>\n",
       "      <th>...</th>\n",
       "      <th>pixel775</th>\n",
       "      <th>pixel776</th>\n",
       "      <th>pixel777</th>\n",
       "      <th>pixel778</th>\n",
       "      <th>pixel779</th>\n",
       "      <th>pixel780</th>\n",
       "      <th>pixel781</th>\n",
       "      <th>pixel782</th>\n",
       "      <th>pixel783</th>\n",
       "      <th>pixel784</th>\n",
       "    </tr>\n",
       "  </thead>\n",
       "  <tbody>\n",
       "    <tr>\n",
       "      <th>0</th>\n",
       "      <td>2</td>\n",
       "      <td>0</td>\n",
       "      <td>0</td>\n",
       "      <td>0</td>\n",
       "      <td>0</td>\n",
       "      <td>0</td>\n",
       "      <td>0</td>\n",
       "      <td>0</td>\n",
       "      <td>0</td>\n",
       "      <td>0</td>\n",
       "      <td>...</td>\n",
       "      <td>0</td>\n",
       "      <td>0</td>\n",
       "      <td>0</td>\n",
       "      <td>0</td>\n",
       "      <td>0</td>\n",
       "      <td>0</td>\n",
       "      <td>0</td>\n",
       "      <td>0</td>\n",
       "      <td>0</td>\n",
       "      <td>0</td>\n",
       "    </tr>\n",
       "    <tr>\n",
       "      <th>1</th>\n",
       "      <td>9</td>\n",
       "      <td>0</td>\n",
       "      <td>0</td>\n",
       "      <td>0</td>\n",
       "      <td>0</td>\n",
       "      <td>0</td>\n",
       "      <td>0</td>\n",
       "      <td>0</td>\n",
       "      <td>0</td>\n",
       "      <td>0</td>\n",
       "      <td>...</td>\n",
       "      <td>0</td>\n",
       "      <td>0</td>\n",
       "      <td>0</td>\n",
       "      <td>0</td>\n",
       "      <td>0</td>\n",
       "      <td>0</td>\n",
       "      <td>0</td>\n",
       "      <td>0</td>\n",
       "      <td>0</td>\n",
       "      <td>0</td>\n",
       "    </tr>\n",
       "    <tr>\n",
       "      <th>2</th>\n",
       "      <td>6</td>\n",
       "      <td>0</td>\n",
       "      <td>0</td>\n",
       "      <td>0</td>\n",
       "      <td>0</td>\n",
       "      <td>0</td>\n",
       "      <td>0</td>\n",
       "      <td>0</td>\n",
       "      <td>5</td>\n",
       "      <td>0</td>\n",
       "      <td>...</td>\n",
       "      <td>0</td>\n",
       "      <td>0</td>\n",
       "      <td>0</td>\n",
       "      <td>30</td>\n",
       "      <td>43</td>\n",
       "      <td>0</td>\n",
       "      <td>0</td>\n",
       "      <td>0</td>\n",
       "      <td>0</td>\n",
       "      <td>0</td>\n",
       "    </tr>\n",
       "    <tr>\n",
       "      <th>3</th>\n",
       "      <td>0</td>\n",
       "      <td>0</td>\n",
       "      <td>0</td>\n",
       "      <td>0</td>\n",
       "      <td>1</td>\n",
       "      <td>2</td>\n",
       "      <td>0</td>\n",
       "      <td>0</td>\n",
       "      <td>0</td>\n",
       "      <td>0</td>\n",
       "      <td>...</td>\n",
       "      <td>3</td>\n",
       "      <td>0</td>\n",
       "      <td>0</td>\n",
       "      <td>0</td>\n",
       "      <td>0</td>\n",
       "      <td>1</td>\n",
       "      <td>0</td>\n",
       "      <td>0</td>\n",
       "      <td>0</td>\n",
       "      <td>0</td>\n",
       "    </tr>\n",
       "    <tr>\n",
       "      <th>4</th>\n",
       "      <td>3</td>\n",
       "      <td>0</td>\n",
       "      <td>0</td>\n",
       "      <td>0</td>\n",
       "      <td>0</td>\n",
       "      <td>0</td>\n",
       "      <td>0</td>\n",
       "      <td>0</td>\n",
       "      <td>0</td>\n",
       "      <td>0</td>\n",
       "      <td>...</td>\n",
       "      <td>0</td>\n",
       "      <td>0</td>\n",
       "      <td>0</td>\n",
       "      <td>0</td>\n",
       "      <td>0</td>\n",
       "      <td>0</td>\n",
       "      <td>0</td>\n",
       "      <td>0</td>\n",
       "      <td>0</td>\n",
       "      <td>0</td>\n",
       "    </tr>\n",
       "  </tbody>\n",
       "</table>\n",
       "<p>5 rows × 785 columns</p>\n",
       "</div>"
      ],
      "text/plain": [
       "   label  pixel1  pixel2  pixel3  pixel4  pixel5  pixel6  pixel7  pixel8  \\\n",
       "0      2       0       0       0       0       0       0       0       0   \n",
       "1      9       0       0       0       0       0       0       0       0   \n",
       "2      6       0       0       0       0       0       0       0       5   \n",
       "3      0       0       0       0       1       2       0       0       0   \n",
       "4      3       0       0       0       0       0       0       0       0   \n",
       "\n",
       "   pixel9  ...  pixel775  pixel776  pixel777  pixel778  pixel779  pixel780  \\\n",
       "0       0  ...         0         0         0         0         0         0   \n",
       "1       0  ...         0         0         0         0         0         0   \n",
       "2       0  ...         0         0         0        30        43         0   \n",
       "3       0  ...         3         0         0         0         0         1   \n",
       "4       0  ...         0         0         0         0         0         0   \n",
       "\n",
       "   pixel781  pixel782  pixel783  pixel784  \n",
       "0         0         0         0         0  \n",
       "1         0         0         0         0  \n",
       "2         0         0         0         0  \n",
       "3         0         0         0         0  \n",
       "4         0         0         0         0  \n",
       "\n",
       "[5 rows x 785 columns]"
      ]
     },
     "execution_count": 3,
     "metadata": {},
     "output_type": "execute_result"
    }
   ],
   "source": [
    "data.head()"
   ]
  },
  {
   "cell_type": "code",
   "execution_count": 4,
   "id": "c38ccf52",
   "metadata": {},
   "outputs": [
    {
     "data": {
      "text/plain": [
       "(60000, 785)"
      ]
     },
     "execution_count": 4,
     "metadata": {},
     "output_type": "execute_result"
    }
   ],
   "source": [
    "data.shape"
   ]
  },
  {
   "cell_type": "markdown",
   "id": "135be14d",
   "metadata": {},
   "source": [
    "### CREATING DATA1 IN ORDER TO VISUALIZE"
   ]
  },
  {
   "cell_type": "code",
   "execution_count": 5,
   "id": "f61cf314",
   "metadata": {},
   "outputs": [],
   "source": [
    "data1 = data[[\"label\"]]"
   ]
  },
  {
   "cell_type": "code",
   "execution_count": 6,
   "id": "efadf561",
   "metadata": {},
   "outputs": [],
   "source": [
    "data1['pixels'] = data[data.columns[1:]].apply(lambda x: ' '.join(x.astype(str)),axis=1)"
   ]
  },
  {
   "cell_type": "code",
   "execution_count": 7,
   "id": "ae87563c",
   "metadata": {},
   "outputs": [
    {
     "data": {
      "text/html": [
       "<div>\n",
       "<style scoped>\n",
       "    .dataframe tbody tr th:only-of-type {\n",
       "        vertical-align: middle;\n",
       "    }\n",
       "\n",
       "    .dataframe tbody tr th {\n",
       "        vertical-align: top;\n",
       "    }\n",
       "\n",
       "    .dataframe thead th {\n",
       "        text-align: right;\n",
       "    }\n",
       "</style>\n",
       "<table border=\"1\" class=\"dataframe\">\n",
       "  <thead>\n",
       "    <tr style=\"text-align: right;\">\n",
       "      <th></th>\n",
       "      <th>label</th>\n",
       "      <th>pixels</th>\n",
       "    </tr>\n",
       "  </thead>\n",
       "  <tbody>\n",
       "    <tr>\n",
       "      <th>0</th>\n",
       "      <td>2</td>\n",
       "      <td>0 0 0 0 0 0 0 0 0 0 0 0 0 0 0 0 0 0 0 0 0 0 0 ...</td>\n",
       "    </tr>\n",
       "    <tr>\n",
       "      <th>1</th>\n",
       "      <td>9</td>\n",
       "      <td>0 0 0 0 0 0 0 0 0 0 0 0 0 0 0 0 0 0 0 0 0 0 0 ...</td>\n",
       "    </tr>\n",
       "    <tr>\n",
       "      <th>2</th>\n",
       "      <td>6</td>\n",
       "      <td>0 0 0 0 0 0 0 5 0 0 0 105 92 101 107 100 132 0...</td>\n",
       "    </tr>\n",
       "    <tr>\n",
       "      <th>3</th>\n",
       "      <td>0</td>\n",
       "      <td>0 0 0 1 2 0 0 0 0 0 114 183 112 55 23 72 102 1...</td>\n",
       "    </tr>\n",
       "    <tr>\n",
       "      <th>4</th>\n",
       "      <td>3</td>\n",
       "      <td>0 0 0 0 0 0 0 0 0 0 0 0 46 0 21 68 0 0 0 0 0 0...</td>\n",
       "    </tr>\n",
       "    <tr>\n",
       "      <th>...</th>\n",
       "      <td>...</td>\n",
       "      <td>...</td>\n",
       "    </tr>\n",
       "    <tr>\n",
       "      <th>59995</th>\n",
       "      <td>9</td>\n",
       "      <td>0 0 0 0 0 0 0 0 0 0 0 0 0 0 0 0 0 0 0 0 0 0 0 ...</td>\n",
       "    </tr>\n",
       "    <tr>\n",
       "      <th>59996</th>\n",
       "      <td>1</td>\n",
       "      <td>0 0 0 0 0 0 0 0 0 0 83 155 136 116 148 110 118...</td>\n",
       "    </tr>\n",
       "    <tr>\n",
       "      <th>59997</th>\n",
       "      <td>8</td>\n",
       "      <td>0 0 0 0 0 0 0 0 0 0 1 0 0 87 114 77 0 4 0 0 0 ...</td>\n",
       "    </tr>\n",
       "    <tr>\n",
       "      <th>59998</th>\n",
       "      <td>8</td>\n",
       "      <td>0 0 0 0 0 0 0 0 0 0 0 0 0 0 0 0 0 0 0 0 0 0 0 ...</td>\n",
       "    </tr>\n",
       "    <tr>\n",
       "      <th>59999</th>\n",
       "      <td>7</td>\n",
       "      <td>0 0 0 0 0 0 0 0 0 0 0 0 0 0 0 0 0 0 0 0 0 0 0 ...</td>\n",
       "    </tr>\n",
       "  </tbody>\n",
       "</table>\n",
       "<p>60000 rows × 2 columns</p>\n",
       "</div>"
      ],
      "text/plain": [
       "       label                                             pixels\n",
       "0          2  0 0 0 0 0 0 0 0 0 0 0 0 0 0 0 0 0 0 0 0 0 0 0 ...\n",
       "1          9  0 0 0 0 0 0 0 0 0 0 0 0 0 0 0 0 0 0 0 0 0 0 0 ...\n",
       "2          6  0 0 0 0 0 0 0 5 0 0 0 105 92 101 107 100 132 0...\n",
       "3          0  0 0 0 1 2 0 0 0 0 0 114 183 112 55 23 72 102 1...\n",
       "4          3  0 0 0 0 0 0 0 0 0 0 0 0 46 0 21 68 0 0 0 0 0 0...\n",
       "...      ...                                                ...\n",
       "59995      9  0 0 0 0 0 0 0 0 0 0 0 0 0 0 0 0 0 0 0 0 0 0 0 ...\n",
       "59996      1  0 0 0 0 0 0 0 0 0 0 83 155 136 116 148 110 118...\n",
       "59997      8  0 0 0 0 0 0 0 0 0 0 1 0 0 87 114 77 0 4 0 0 0 ...\n",
       "59998      8  0 0 0 0 0 0 0 0 0 0 0 0 0 0 0 0 0 0 0 0 0 0 0 ...\n",
       "59999      7  0 0 0 0 0 0 0 0 0 0 0 0 0 0 0 0 0 0 0 0 0 0 0 ...\n",
       "\n",
       "[60000 rows x 2 columns]"
      ]
     },
     "execution_count": 7,
     "metadata": {},
     "output_type": "execute_result"
    }
   ],
   "source": [
    "data1"
   ]
  },
  {
   "cell_type": "code",
   "execution_count": 9,
   "id": "61650153",
   "metadata": {},
   "outputs": [
    {
     "data": {
      "text/html": [
       "<div>\n",
       "<style scoped>\n",
       "    .dataframe tbody tr th:only-of-type {\n",
       "        vertical-align: middle;\n",
       "    }\n",
       "\n",
       "    .dataframe tbody tr th {\n",
       "        vertical-align: top;\n",
       "    }\n",
       "\n",
       "    .dataframe thead th {\n",
       "        text-align: right;\n",
       "    }\n",
       "</style>\n",
       "<table border=\"1\" class=\"dataframe\">\n",
       "  <thead>\n",
       "    <tr style=\"text-align: right;\">\n",
       "      <th></th>\n",
       "      <th>cloth_type</th>\n",
       "      <th>count</th>\n",
       "    </tr>\n",
       "  </thead>\n",
       "  <tbody>\n",
       "    <tr>\n",
       "      <th>0</th>\n",
       "      <td>Pullover</td>\n",
       "      <td>6000</td>\n",
       "    </tr>\n",
       "    <tr>\n",
       "      <th>1</th>\n",
       "      <td>Ankle boot</td>\n",
       "      <td>6000</td>\n",
       "    </tr>\n",
       "    <tr>\n",
       "      <th>2</th>\n",
       "      <td>Shirt</td>\n",
       "      <td>6000</td>\n",
       "    </tr>\n",
       "    <tr>\n",
       "      <th>3</th>\n",
       "      <td>T-shirt/top</td>\n",
       "      <td>6000</td>\n",
       "    </tr>\n",
       "    <tr>\n",
       "      <th>4</th>\n",
       "      <td>Dress</td>\n",
       "      <td>6000</td>\n",
       "    </tr>\n",
       "    <tr>\n",
       "      <th>5</th>\n",
       "      <td>Coat</td>\n",
       "      <td>6000</td>\n",
       "    </tr>\n",
       "    <tr>\n",
       "      <th>6</th>\n",
       "      <td>Sandal</td>\n",
       "      <td>6000</td>\n",
       "    </tr>\n",
       "    <tr>\n",
       "      <th>7</th>\n",
       "      <td>Bag</td>\n",
       "      <td>6000</td>\n",
       "    </tr>\n",
       "    <tr>\n",
       "      <th>8</th>\n",
       "      <td>Sneaker</td>\n",
       "      <td>6000</td>\n",
       "    </tr>\n",
       "    <tr>\n",
       "      <th>9</th>\n",
       "      <td>Trouser</td>\n",
       "      <td>6000</td>\n",
       "    </tr>\n",
       "  </tbody>\n",
       "</table>\n",
       "</div>"
      ],
      "text/plain": [
       "    cloth_type  count\n",
       "0     Pullover   6000\n",
       "1   Ankle boot   6000\n",
       "2        Shirt   6000\n",
       "3  T-shirt/top   6000\n",
       "4        Dress   6000\n",
       "5         Coat   6000\n",
       "6       Sandal   6000\n",
       "7          Bag   6000\n",
       "8      Sneaker   6000\n",
       "9      Trouser   6000"
      ]
     },
     "execution_count": 9,
     "metadata": {},
     "output_type": "execute_result"
    }
   ],
   "source": [
    "cloth_map = {0:\"T-shirt/top\",1:\"Trouser\", 2:\"Pullover\",3:\"Dress\" ,4:\"Coat\",\n",
    "              5:\"Sandal\", 6:\"Shirt\", 7:\"Sneaker\", 8:\"Bag\", 9:\"Ankle boot\"}\n",
    "cloth_counts = data1[\"label\"].value_counts(sort=False).reset_index()\n",
    "cloth_counts.columns = [\"cloth_type\" , \"count\"]\n",
    "cloth_counts[\"cloth_type\"] = cloth_counts[\"cloth_type\"].map(cloth_map)\n",
    "cloth_counts"
   ]
  },
  {
   "cell_type": "code",
   "execution_count": 18,
   "id": "1dcf2253",
   "metadata": {},
   "outputs": [],
   "source": [
    "def row2image(row):\n",
    "    pixels , cloth = row[\"pixels\"],cloth_map[row[\"label\"]]\n",
    "    img = np.array(pixels.split())\n",
    "    img = img.reshape(28,28)\n",
    "    image = np.zeros((28,28,3))\n",
    "    image[:,:,0] = img\n",
    "    image[:,:,1] = img\n",
    "    image[:,:,2] = img  \n",
    "    return np.array([image.astype(int),cloth])"
   ]
  },
  {
   "cell_type": "code",
   "execution_count": 11,
   "id": "8db62bf6",
   "metadata": {},
   "outputs": [
    {
     "data": {
      "image/png": "[encoded data removed]",
      "text/plain": [
       "<Figure size 432x288 with 10 Axes>"
      ]
     },
     "metadata": {
      "needs_background": "light"
     },
     "output_type": "display_data"
    }
   ],
   "source": [
    "for i in range(1,11):\n",
    "    face = data1[data1[\"label\"]==i-1].iloc[0]\n",
    "    img = row2image(face)\n",
    "    plt.subplot(3,4,i)\n",
    "    plt.imshow(img[0])\n",
    "    plt.title(img[1])\n",
    "plt.show()  "
   ]
  },
  {
   "cell_type": "markdown",
   "id": "ff8cdefe",
   "metadata": {},
   "source": [
    "### NOW AGAIN USING DATA "
   ]
  },
  {
   "cell_type": "code",
   "execution_count": 20,
   "id": "29d333b8",
   "metadata": {},
   "outputs": [],
   "source": [
    "x = data.drop(\"label\",axis=1)\n",
    "y = data.label"
   ]
  },
  {
   "cell_type": "code",
   "execution_count": 22,
   "id": "03a34317",
   "metadata": {},
   "outputs": [
    {
     "data": {
      "text/plain": [
       "(60000, 784)"
      ]
     },
     "execution_count": 22,
     "metadata": {},
     "output_type": "execute_result"
    }
   ],
   "source": [
    "x.shape"
   ]
  },
  {
   "cell_type": "markdown",
   "id": "16c20935",
   "metadata": {},
   "source": [
    "### RESHAPING AND CONVERTING IT TO ARRAY"
   ]
  },
  {
   "cell_type": "code",
   "execution_count": 24,
   "id": "2c98c8dd",
   "metadata": {},
   "outputs": [],
   "source": [
    "x_standard = []  \n",
    "for i in range(0,x.shape[0]):\n",
    "    x_standard.append(x.iloc[i,:].values.reshape(28,28)/255)"
   ]
  },
  {
   "cell_type": "markdown",
   "id": "61f0729d",
   "metadata": {},
   "source": [
    "### CONVERTING TARGET INTO CATAGORICAL FORM"
   ]
  },
  {
   "cell_type": "code",
   "execution_count": 25,
   "id": "1a964b16",
   "metadata": {},
   "outputs": [],
   "source": [
    "num_classes = 10\n",
    "x_train = np.array(x_standard)\n",
    "y_train = to_categorical(y,num_classes)"
   ]
  },
  {
   "cell_type": "markdown",
   "id": "30f6fbb8",
   "metadata": {},
   "source": [
    "### MODEL CREATION"
   ]
  },
  {
   "cell_type": "code",
   "execution_count": 26,
   "id": "b5899f27",
   "metadata": {},
   "outputs": [],
   "source": [
    "model = Sequential()\n",
    "model.add(Conv2D(32,(3,3), activation='relu', input_shape=(28,28,1)))\n",
    "model.add(MaxPooling2D((2,2)))\n",
    "model.add((Conv2D(64,(3,3), activation = 'relu')))\n",
    "model.add(MaxPooling2D((2,2)))\n",
    "model.add(Conv2D(64,(3,3), activation = 'relu'))\n",
    "model.add(Flatten())\n",
    "model.add(Dense(64,activation = 'relu'))\n",
    "model.add(Dense(10,activation = 'softmax'))"
   ]
  },
  {
   "cell_type": "code",
   "execution_count": 27,
   "id": "c0d1f8cc",
   "metadata": {},
   "outputs": [],
   "source": [
    "model.compile(optimizer = 'adam',loss = 'categorical_crossentropy',metrics=['accuracy'])"
   ]
  },
  {
   "cell_type": "markdown",
   "id": "13e63b25",
   "metadata": {},
   "source": [
    "### MODEL BUILDING"
   ]
  },
  {
   "cell_type": "code",
   "execution_count": 28,
   "id": "fba20b94",
   "metadata": {},
   "outputs": [
    {
     "name": "stdout",
     "output_type": "stream",
     "text": [
      "Epoch 1/7\n",
      "1875/1875 [==============================] - 49s 25ms/step - loss: 0.4960 - accuracy: 0.8189\n",
      "Epoch 2/7\n",
      "1875/1875 [==============================] - 49s 26ms/step - loss: 0.3213 - accuracy: 0.8834\n",
      "Epoch 3/7\n",
      "1875/1875 [==============================] - 46s 24ms/step - loss: 0.2753 - accuracy: 0.8996\n",
      "Epoch 4/7\n",
      "1875/1875 [==============================] - 48s 25ms/step - loss: 0.2444 - accuracy: 0.9087\n",
      "Epoch 5/7\n",
      "1875/1875 [==============================] - 51s 27ms/step - loss: 0.2181 - accuracy: 0.9189\n",
      "Epoch 6/7\n",
      "1875/1875 [==============================] - 47s 25ms/step - loss: 0.1974 - accuracy: 0.9263\n",
      "Epoch 7/7\n",
      "1875/1875 [==============================] - 48s 25ms/step - loss: 0.1817 - accuracy: 0.9315\n"
     ]
    }
   ],
   "source": [
    "history= model.fit(x_train, y_train,epochs = 7)"
   ]
  },
  {
   "cell_type": "markdown",
   "id": "8b767488",
   "metadata": {},
   "source": [
    "* So model is trained on 93% of accuracy"
   ]
  },
  {
   "cell_type": "markdown",
   "id": "c9db1a63",
   "metadata": {},
   "source": [
    "### NOW TESTING ON TEST DATA"
   ]
  },
  {
   "cell_type": "code",
   "execution_count": 29,
   "id": "feeec987",
   "metadata": {},
   "outputs": [],
   "source": [
    "test_data = pd.read_csv(r\"C:\\Users\\Skill-Lync\\Downloads\\fashion-mnist_test__Dataset_Project 1_.csv\\fashion-mnist_test.csv\")"
   ]
  },
  {
   "cell_type": "code",
   "execution_count": 30,
   "id": "ee38cdad",
   "metadata": {},
   "outputs": [],
   "source": [
    "x_test = test_data.drop(\"label\",axis=1)\n",
    "y_test = test_data.label"
   ]
  },
  {
   "cell_type": "markdown",
   "id": "55f4ec9c",
   "metadata": {},
   "source": [
    "### RESHAPING THE TEST DATA\n",
    "\n",
    "* Pixels are already splitted so no need to split."
   ]
  },
  {
   "cell_type": "code",
   "execution_count": 31,
   "id": "58386f82",
   "metadata": {},
   "outputs": [],
   "source": [
    "x_test_standard = []  \n",
    "for i in range(0,x_test.shape[0]):\n",
    "    x_test_standard.append(x_test.iloc[i,:].values.reshape(28,28)/255)"
   ]
  },
  {
   "cell_type": "markdown",
   "id": "ddb0a2f8",
   "metadata": {},
   "source": [
    "### CONVERTING INPUT TO ARRAY AND OUTPUT TO CATAGORICAL"
   ]
  },
  {
   "cell_type": "code",
   "execution_count": 32,
   "id": "29c5232f",
   "metadata": {},
   "outputs": [],
   "source": [
    "x_test = np.array(x_test_standard)\n",
    "y_test = to_categorical(y_test)"
   ]
  },
  {
   "cell_type": "markdown",
   "id": "6dca8dd0",
   "metadata": {},
   "source": [
    "### LETS SEE HOW OUR MODEL WORKING ON TEST DATA"
   ]
  },
  {
   "cell_type": "code",
   "execution_count": 33,
   "id": "f78b68ae",
   "metadata": {},
   "outputs": [
    {
     "name": "stdout",
     "output_type": "stream",
     "text": [
      "313/313 [==============================] - 8s 24ms/step - loss: 0.2340 - accuracy: 0.9156\n"
     ]
    }
   ],
   "source": [
    "test_history = model.fit(x_test,y_test)"
   ]
  },
  {
   "cell_type": "markdown",
   "id": "42ec4f73",
   "metadata": {},
   "source": [
    "* Its working very good on testing data.\n",
    "* We successfully able to get 91% of accuracy.\n",
    "\n",
    "IF WE SEE TRAINING AND TESTING ACCURACY THERE IS NOT MUCH DIFFERENCE BETWEEN THEM, HENCE , WE CAN SAY THAT MODEL IS NEITHER OVERFITTED NOR UNDERFITTED"
   ]
  },
  {
   "cell_type": "code",
   "execution_count": 26,
   "id": "b5c98c83",
   "metadata": {},
   "outputs": [
    {
     "data": {
      "image/png": "[encoded data removed]",
      "text/plain": [
       "<Figure size 432x288 with 1 Axes>"
      ]
     },
     "metadata": {
      "needs_background": "light"
     },
     "output_type": "display_data"
    }
   ],
   "source": [
    "accuracy = history.history['accuracy']\n",
    "test_accuracy = test_history.history['accuracy']\n",
    "epochs = range(1,len(accuracy)+1)\n",
    "epochs_test = 1\n",
    "\n",
    "\n",
    "plt.plot(epochs,accuracy,\"r\",label = \"Training accuracy\")\n",
    "plt.plot(epochs_test,test_accuracy,\"b\",label=\"Test accuracy\")\n",
    "plt.title(\"Training and Testing Accuracy\")\n",
    "plt.xlabel(\"Epochs\")\n",
    "plt.ylabel(\"Acuuracy\")\n",
    "plt.legend()\n",
    "plt.show()"
   ]
  },
  {
   "cell_type": "markdown",
   "id": "cb8d7d53",
   "metadata": {},
   "source": [
    "### PREDICTION"
   ]
  },
  {
   "cell_type": "code",
   "execution_count": 27,
   "id": "dd50efe0",
   "metadata": {},
   "outputs": [
    {
     "name": "stdout",
     "output_type": "stream",
     "text": [
      "313/313 [==============================] - 2s 7ms/step\n"
     ]
    }
   ],
   "source": [
    "pred = model.predict(x_test)"
   ]
  },
  {
   "cell_type": "markdown",
   "id": "3812ebda",
   "metadata": {},
   "source": [
    "### PREDICTION PROOF"
   ]
  },
  {
   "cell_type": "code",
   "execution_count": 28,
   "id": "e7e6d7e8",
   "metadata": {},
   "outputs": [
    {
     "data": {
      "text/plain": [
       "<matplotlib.image.AxesImage at 0x25092e947f0>"
      ]
     },
     "execution_count": 28,
     "metadata": {},
     "output_type": "execute_result"
    },
    {
     "data": {
      "image/png": "[encoded data removed]",
      "text/plain": [
       "<Figure size 432x288 with 1 Axes>"
      ]
     },
     "metadata": {
      "needs_background": "light"
     },
     "output_type": "display_data"
    }
   ],
   "source": [
    "plt.imshow(x_test[100])"
   ]
  },
  {
   "cell_type": "code",
   "execution_count": 29,
   "id": "1c3b4f96",
   "metadata": {},
   "outputs": [
    {
     "name": "stdout",
     "output_type": "stream",
     "text": [
      "9\n"
     ]
    }
   ],
   "source": [
    "print(np.argmax(pred[100]))"
   ]
  },
  {
   "cell_type": "code",
   "execution_count": 30,
   "id": "02762936",
   "metadata": {},
   "outputs": [],
   "source": [
    "proof = pd.DataFrame({0:[\"T-shirt/top\"],1:[\"Trouser\"], 2:[\"Pullover\"],3:[\"Dress\"] ,4:[\"Coat\"],\n",
    "              5:[\"Sandal\"], 6:[\"Shirt\"], 7:[\"Sneaker\"], 8:[\"Bag\"], 9:[\"Ankle boot\"]})"
   ]
  },
  {
   "cell_type": "code",
   "execution_count": 31,
   "id": "bf1dda60",
   "metadata": {},
   "outputs": [
    {
     "data": {
      "text/html": [
       "<div>\n",
       "<style scoped>\n",
       "    .dataframe tbody tr th:only-of-type {\n",
       "        vertical-align: middle;\n",
       "    }\n",
       "\n",
       "    .dataframe tbody tr th {\n",
       "        vertical-align: top;\n",
       "    }\n",
       "\n",
       "    .dataframe thead th {\n",
       "        text-align: right;\n",
       "    }\n",
       "</style>\n",
       "<table border=\"1\" class=\"dataframe\">\n",
       "  <thead>\n",
       "    <tr style=\"text-align: right;\">\n",
       "      <th></th>\n",
       "      <th>0</th>\n",
       "      <th>1</th>\n",
       "      <th>2</th>\n",
       "      <th>3</th>\n",
       "      <th>4</th>\n",
       "      <th>5</th>\n",
       "      <th>6</th>\n",
       "      <th>7</th>\n",
       "      <th>8</th>\n",
       "      <th>9</th>\n",
       "    </tr>\n",
       "  </thead>\n",
       "  <tbody>\n",
       "    <tr>\n",
       "      <th>0</th>\n",
       "      <td>T-shirt/top</td>\n",
       "      <td>Trouser</td>\n",
       "      <td>Pullover</td>\n",
       "      <td>Dress</td>\n",
       "      <td>Coat</td>\n",
       "      <td>Sandal</td>\n",
       "      <td>Shirt</td>\n",
       "      <td>Sneaker</td>\n",
       "      <td>Bag</td>\n",
       "      <td>Ankle boot</td>\n",
       "    </tr>\n",
       "  </tbody>\n",
       "</table>\n",
       "</div>"
      ],
      "text/plain": [
       "             0        1         2      3     4       5      6        7    8  \\\n",
       "0  T-shirt/top  Trouser  Pullover  Dress  Coat  Sandal  Shirt  Sneaker  Bag   \n",
       "\n",
       "            9  \n",
       "0  Ankle boot  "
      ]
     },
     "execution_count": 31,
     "metadata": {},
     "output_type": "execute_result"
    }
   ],
   "source": [
    "proof"
   ]
  },
  {
   "cell_type": "markdown",
   "id": "4db0b6cf",
   "metadata": {},
   "source": [
    "### CONCLUSION\n",
    "* Now it can be seen that when we print the x_test value[100] that returns the image of Ankle boot.\n",
    "* After that we checked the index of same pred value[100].\n",
    "* Now the index is 9.\n",
    "* Finally , if we see on the dataframe(proof) then (th index is representing to \"Ankle boot \".\n",
    "* So , it means our is well trained and able to return the right value of prediction"
   ]
  },
  {
   "cell_type": "code",
   "execution_count": null,
   "id": "104d63c7",
   "metadata": {},
   "outputs": [],
   "source": []
  }
 ],
 "metadata": {
  "kernelspec": {
   "display_name": "Python 3 (ipykernel)",
   "language": "python",
   "name": "python3"
  },
  "language_info": {
   "codemirror_mode": {
    "name": "ipython",
    "version": 3
   },
   "file_extension": ".py",
   "mimetype": "text/x-python",
   "name": "python",
   "nbconvert_exporter": "python",
   "pygments_lexer": "ipython3",
   "version": "3.9.12"
  }
 },
 "nbformat": 4,
 "nbformat_minor": 5
}
